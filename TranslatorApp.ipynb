{
 "cells": [
  {
   "cell_type": "code",
   "execution_count": 2,
   "metadata": {},
   "outputs": [
    {
     "ename": "ModuleNotFoundError",
     "evalue": "No module named 'googletrans'",
     "output_type": "error",
     "traceback": [
      "\u001b[1;31m---------------------------------------------------------------------------\u001b[0m",
      "\u001b[1;31mModuleNotFoundError\u001b[0m                       Traceback (most recent call last)",
      "Cell \u001b[1;32mIn[2], line 5\u001b[0m\n\u001b[0;32m      3\u001b[0m \u001b[39mfrom\u001b[39;00m \u001b[39mtkinter\u001b[39;00m \u001b[39mimport\u001b[39;00m \u001b[39m*\u001b[39m\n\u001b[0;32m      4\u001b[0m \u001b[39mfrom\u001b[39;00m \u001b[39mtkinter\u001b[39;00m \u001b[39mimport\u001b[39;00m ttk\n\u001b[1;32m----> 5\u001b[0m \u001b[39mfrom\u001b[39;00m \u001b[39mgoogletrans\u001b[39;00m \u001b[39mimport\u001b[39;00m Translator,LANGUAGES\n\u001b[0;32m      6\u001b[0m root \u001b[39m=\u001b[39mTk()\n\u001b[0;32m      7\u001b[0m root\u001b[39m.\u001b[39mgeometry(\u001b[39m'\u001b[39m\u001b[39m1100x320\u001b[39m\u001b[39m'\u001b[39m)\n",
      "\u001b[1;31mModuleNotFoundError\u001b[0m: No module named 'googletrans'"
     ]
    }
   ],
   "source": [
    "#-----------Task-3----------\n",
    "#-------TRANSLATOR APP------ \n",
    "from tkinter import *\n",
    "from tkinter import ttk\n",
    "from googletrans import Translator,LANGUAGES\n",
    "root =Tk()\n",
    "root.geometry('1100x320')\n",
    "root.resizable(0,0)\n",
    "root['bg']='lime'\n",
    "root.title('Language translator by Harsharaj B')\n",
    "Label(root,text=\"Language Translator\" ,font = \"Arial 20 bold\",border='2',relief=\"solid\").pack()\n",
    "Label(root,text=\"Enter Text\" ,font ='arial 13 bold' ,bg='white smoke',border='1',relief=\"solid\").place(x=165, y=90)\n",
    "Input_text=Entry(root,width=60)\n",
    "Input_text.place(x=30,y=130)\n",
    "Input_text.get()\n",
    "Label(root,text=\"output\" ,font ='arial 13 bold', bg='white smoke',border='1',relief=\"solid\").place(x=780,y=90)\n",
    "Output_text=Text(root,font='arial 10',height=5,wrap=WORD,padx=5,pady=5,width=50)\n",
    "Output_text.place(x=600,y=130)\n",
    "\n",
    "language= list(LANGUAGES.values())\n",
    "\n",
    "dest_lang= ttk.Combobox(root,values=language,width=22)\n",
    "dest_lang.place(x=130,y=180)\n",
    "dest_lang.set('choose language')\n",
    "\n",
    "def Translate():\n",
    "    translator= Translator()\n",
    "    translated= translator.translate(text=Input_text.get(), dest= dest_lang.get())\n",
    "    Output_text.delete(1.0, END)\n",
    "    Output_text.insert(END, translated.text)\n",
    "    \n",
    "trans_btn=Button(root,text='Translate',font='arial 12 bold', pady=5, command=Translate,bg='orange',activebackground='green')\n",
    "trans_btn.place(x=445,y=180)\n",
    "\n",
    "root.mainloop()"
   ]
  }
 ],
 "metadata": {
  "kernelspec": {
   "display_name": "Python 3",
   "language": "python",
   "name": "python3"
  },
  "language_info": {
   "codemirror_mode": {
    "name": "ipython",
    "version": 3
   },
   "file_extension": ".py",
   "mimetype": "text/x-python",
   "name": "python",
   "nbconvert_exporter": "python",
   "pygments_lexer": "ipython3",
   "version": "3.10.11"
  },
  "orig_nbformat": 4
 },
 "nbformat": 4,
 "nbformat_minor": 2
}
